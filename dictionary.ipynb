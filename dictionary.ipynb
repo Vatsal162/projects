{
 "cells": [
  {
   "cell_type": "code",
   "execution_count": 3,
   "metadata": {},
   "outputs": [
    {
     "name": "stdout",
     "output_type": "stream",
     "text": [
      "Collecting PyDictionary\n",
      "  Downloading PyDictionary-2.0.1-py3-none-any.whl (6.1 kB)\n",
      "Requirement already satisfied: requests in c:\\users\\hp\\anaconda3\\lib\\site-packages (from PyDictionary) (2.22.0)\n",
      "Collecting bs4\n",
      "  Downloading bs4-0.0.1.tar.gz (1.1 kB)\n",
      "Collecting goslate\n",
      "  Downloading goslate-1.5.1.tar.gz (17 kB)\n",
      "Requirement already satisfied: click in c:\\users\\hp\\anaconda3\\lib\\site-packages (from PyDictionary) (7.0)\n",
      "Requirement already satisfied: certifi>=2017.4.17 in c:\\users\\hp\\anaconda3\\lib\\site-packages (from requests->PyDictionary) (2019.11.28)\n",
      "Requirement already satisfied: idna<2.9,>=2.5 in c:\\users\\hp\\anaconda3\\lib\\site-packages (from requests->PyDictionary) (2.8)\n",
      "Requirement already satisfied: chardet<3.1.0,>=3.0.2 in c:\\users\\hp\\anaconda3\\lib\\site-packages (from requests->PyDictionary) (3.0.4)\n",
      "Requirement already satisfied: urllib3!=1.25.0,!=1.25.1,<1.26,>=1.21.1 in c:\\users\\hp\\anaconda3\\lib\\site-packages (from requests->PyDictionary) (1.25.8)\n",
      "Requirement already satisfied: beautifulsoup4 in c:\\users\\hp\\anaconda3\\lib\\site-packages (from bs4->PyDictionary) (4.8.2)\n",
      "Collecting futures\n",
      "  Downloading futures-3.1.1-py3-none-any.whl (2.8 kB)\n",
      "Requirement already satisfied: soupsieve>=1.2 in c:\\users\\hp\\anaconda3\\lib\\site-packages (from beautifulsoup4->bs4->PyDictionary) (1.9.5)\n",
      "Building wheels for collected packages: bs4, goslate\n",
      "  Building wheel for bs4 (setup.py): started\n",
      "  Building wheel for bs4 (setup.py): finished with status 'done'\n",
      "  Created wheel for bs4: filename=bs4-0.0.1-py3-none-any.whl size=1279 sha256=b544e7fc694d0e9aed757ea8991e6c150e42a626960b60e8d5d5091f1daeda12\n",
      "  Stored in directory: c:\\users\\hp\\appdata\\local\\pip\\cache\\wheels\\0a\\9e\\ba\\20e5bbc1afef3a491f0b3bb74d508f99403aabe76eda2167ca\n",
      "  Building wheel for goslate (setup.py): started\n",
      "  Building wheel for goslate (setup.py): finished with status 'done'\n",
      "  Created wheel for goslate: filename=goslate-1.5.1-py3-none-any.whl size=11554 sha256=e1e85d182975f13bfc1e9c5ca160ba569b2701da9c766161678cdd9305725fcb\n",
      "  Stored in directory: c:\\users\\hp\\appdata\\local\\pip\\cache\\wheels\\16\\5c\\86\\f561bb944dc9f853f9502427bde8fe557a6fafe146d4a432f2\n",
      "Successfully built bs4 goslate\n",
      "Installing collected packages: bs4, futures, goslate, PyDictionary\n",
      "Successfully installed PyDictionary-2.0.1 bs4-0.0.1 futures-3.1.1 goslate-1.5.1\n",
      "Note: you may need to restart the kernel to use updated packages.\n"
     ]
    }
   ],
   "source": [
    "pip install PyDictionary"
   ]
  },
  {
   "cell_type": "code",
   "execution_count": 4,
   "metadata": {},
   "outputs": [],
   "source": [
    "from tkinter import *\n",
    "from PyDictionary import PyDictionary\n",
    "dictionary = PyDictionary()\n",
    "root= Tk()\n",
    "root.geometry(\"400x400\")\n",
    "\n",
    "def dict():\n",
    "    meaning.config(text=dictionary.meaning(word.get())['Noun'][0])\n",
    "    synonym.config(text=dictionary.synonym(word.get()))\n",
    "    antonym.config(text=dictionary.antonym(word.get()))\n",
    "    \n",
    "Label(root, text= \"Dictionary\", font= (\"Helvetica 20 bold\"), fg= \"Green\").pack(pady=10)\n",
    "frame= Frame(root)\n",
    "Label(frame, text=\"Type Word\", font= (\"Helvetica 15 bold\")).pack(side=LEFT)\n",
    "word = Entry(frame, font=(\"Helvetica 15 bold\"))\n",
    "word.pack()\n",
    "frame.pack(pady=10)\n",
    "\n",
    "                          \n",
    "frame1 = Frame(root)\n",
    "Label(frame1, text = \"Meaning: \", font=(\"Helvetica 10 bold\")).pack(side=LEFT)\n",
    "meaning = Label(frame1, text= \"\", font=(\"Helvetica 10 bold\"))\n",
    "meaning.pack()\n",
    "frame1.pack(pady=10)\n",
    "                        \n",
    "frame2 = Frame(root)\n",
    "Label(frame2, text = \"Synonym: \", font=(\"Helvetica 10 bold\")).pack(side=LEFT)\n",
    "synonym = Label(frame2, text= \"\", font=(\"Helvetica 10 bold\"))\n",
    "synonym.pack()\n",
    "frame2.pack(pady=10)\n",
    "                          \n",
    "frame3 = Frame(root)\n",
    "Label(frame3, text = \"Antonym: \", font=(\"Helvetica 10 bold\")).pack(side=LEFT)\n",
    "antonym = Label(frame3, text= \"\", font=(\"Helvetica 10 bold\"))\n",
    "antonym.pack()\n",
    "frame3.pack(pady=10)\n",
    "                          \n",
    "Button(root, text = \"SUbmit\", font =(\"Helvetica 15 bold\"), command=dict).pack()\n",
    "root.mainloop()"
   ]
  },
  {
   "cell_type": "code",
   "execution_count": null,
   "metadata": {},
   "outputs": [],
   "source": []
  }
 ],
 "metadata": {
  "kernelspec": {
   "display_name": "Python 3",
   "language": "python",
   "name": "python3"
  },
  "language_info": {
   "codemirror_mode": {
    "name": "ipython",
    "version": 3
   },
   "file_extension": ".py",
   "mimetype": "text/x-python",
   "name": "python",
   "nbconvert_exporter": "python",
   "pygments_lexer": "ipython3",
   "version": "3.7.6"
  }
 },
 "nbformat": 4,
 "nbformat_minor": 4
}
